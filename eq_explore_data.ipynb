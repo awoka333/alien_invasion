{
 "cells": [
  {
   "cell_type": "code",
   "execution_count": 1,
   "metadata": {},
   "outputs": [],
   "source": [
    "import json\n",
    "\n",
    "# データの構造を調査する\n",
    "filename = 'data5-2/eq_data_1_day_m1.json'\n",
    "with open(filename) as f:\n",
    "    all_eq_data = json.load(f)\n",
    "    \n",
    "readable_file = 'data5-2/readable_eq_data.json'\n",
    "with open(readable_file, 'w') as f:\n",
    "    json.dump(all_eq_data, f, indent=4)"
   ]
  },
  {
   "cell_type": "code",
   "execution_count": 2,
   "metadata": {},
   "outputs": [
    {
     "name": "stdout",
     "output_type": "stream",
     "text": [
      "158\n"
     ]
    }
   ],
   "source": [
    "import json\n",
    "\n",
    "# データの構造を調査する\n",
    "filename = 'data5-2/eq_data_1_day_m1.json'\n",
    "with open(filename) as f:\n",
    "    all_eq_data = json.load(f)\n",
    "    \n",
    "all_eq_dicts = all_eq_data['features']\n",
    "print(len(all_eq_dicts))"
   ]
  },
  {
   "cell_type": "code",
   "execution_count": 4,
   "metadata": {},
   "outputs": [
    {
     "name": "stdout",
     "output_type": "stream",
     "text": [
      "[0.96, 1.2, 4.3, 3.6, 2.1, 4, 1.06, 2.3, 4.9, 1.8]\n"
     ]
    }
   ],
   "source": [
    "import json\n",
    "\n",
    "# データの構造を調査する\n",
    "filename = 'data5-2/eq_data_1_day_m1.json'\n",
    "with open(filename) as f:\n",
    "    all_eq_data = json.load(f)\n",
    "    \n",
    "all_eq_dicts = all_eq_data['features']\n",
    "\n",
    "mags = []\n",
    "for eq_dict in all_eq_dicts:\n",
    "    mag = eq_dict['properties']['mag']\n",
    "    mags.append(mag)\n",
    "\n",
    "print(mags[:10])"
   ]
  },
  {
   "cell_type": "code",
   "execution_count": 6,
   "metadata": {},
   "outputs": [
    {
     "name": "stdout",
     "output_type": "stream",
     "text": [
      "[0.96, 1.2, 4.3, 3.6, 2.1, 4, 1.06, 2.3, 4.9, 1.8]\n",
      "[-116.7941667, -148.9865, -74.2343, -161.6801, -118.5316667]\n",
      "[33.4863333, 64.6673, -12.1025, 54.2232, 35.3098333]\n"
     ]
    }
   ],
   "source": [
    "import json\n",
    "\n",
    "# データの構造を調査する\n",
    "filename = 'data5-2/eq_data_1_day_m1.json'\n",
    "with open(filename) as f:\n",
    "    all_eq_data = json.load(f)\n",
    "    \n",
    "all_eq_dicts = all_eq_data['features']\n",
    "\n",
    "mags, lons, lats = [], [], []\n",
    "for eq_dict in all_eq_dicts:\n",
    "    mag = eq_dict['properties']['mag']\n",
    "    lon = eq_dict['geometry']['coordinates'][0]\n",
    "    lat = eq_dict['geometry']['coordinates'][1]\n",
    "    mags.append(mag)\n",
    "    lons.append(lon)\n",
    "    lats.append(lat)\n",
    "\n",
    "print(mags[:10])\n",
    "print(lons[:5])\n",
    "print(lats[:5])"
   ]
  }
 ],
 "metadata": {
  "kernelspec": {
   "display_name": "Python 3",
   "language": "python",
   "name": "python3"
  },
  "language_info": {
   "codemirror_mode": {
    "name": "ipython",
    "version": 3
   },
   "file_extension": ".py",
   "mimetype": "text/x-python",
   "name": "python",
   "nbconvert_exporter": "python",
   "pygments_lexer": "ipython3",
   "version": "3.6.10"
  }
 },
 "nbformat": 4,
 "nbformat_minor": 4
}
