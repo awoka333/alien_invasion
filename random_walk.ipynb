{
 "cells": [
  {
   "cell_type": "code",
   "execution_count": 3,
   "metadata": {},
   "outputs": [],
   "source": [
    "from random import choice\n",
    "\n",
    "class RandomWalk:\n",
    "    \"\"\"ランダムウォークを生成するためのクラス\"\"\"\n",
    "    \n",
    "    def __init__(self, num_points=5000):\n",
    "        \"\"\"ランダムウォークの属性を初期化する\"\"\"\n",
    "        self.num_points = num_points\n",
    "        \n",
    "        # すべてのランダムウォークは(0, 0)から開始する\n",
    "        self.x_values = [0]\n",
    "        self.y_values = [0]"
   ]
  },
  {
   "cell_type": "code",
   "execution_count": 4,
   "metadata": {},
   "outputs": [],
   "source": [
    "from random import choice\n",
    "\n",
    "class RandomWalk:\n",
    "    \"\"\"ランダムウォークを生成するためのクラス\"\"\"\n",
    "    \n",
    "    def __init__(self, num_points=5000):\n",
    "        \"\"\"ランダムウォークの属性を初期化する\"\"\"\n",
    "        self.num_points = num_points\n",
    "        \n",
    "        # すべてのランダムウォークは(0, 0)から開始する\n",
    "        self.x_value = [0]\n",
    "        self.y_value = [0]\n",
    "        \n",
    "    def fill_walk(self):\n",
    "        \"\"\"ランダムウォークのすべての点を計算する\"\"\"\n",
    "        \n",
    "        # ステップ数が指定した数になるまでランダムウォークを続ける\n",
    "        while len(self.x_values) < self.num_points:\n",
    "            \n",
    "            # 移動する方向と距離を決定する\n",
    "            x_direction = choice([1, -1])\n",
    "            x_distance = choice([0, 1, 2, 3, 4, 5])\n",
    "            x_step = x_direction * x_distance\n",
    "            \n",
    "            y_direction = choice([1, -1])\n",
    "            y_distance = choice([0, 1, 2, 3, 4, 5])\n",
    "            y_step = y_direction * y_distance\n",
    "            \n",
    "            # どこにも移動しない場合は結果を破棄する\n",
    "            if x_step == 0 and y_step == 0:\n",
    "                continue\n",
    "            \n",
    "            # 新しい位置を計算する\n",
    "            x = self.x_values[-1] + x_step\n",
    "            y = self.y_values[-1] + y_step\n",
    "            \n",
    "            self.x_values.append(x)\n",
    "            self.y_values.append(y)"
   ]
  }
 ],
 "metadata": {
  "kernelspec": {
   "display_name": "Python 3",
   "language": "python",
   "name": "python3"
  },
  "language_info": {
   "codemirror_mode": {
    "name": "ipython",
    "version": 3
   },
   "file_extension": ".py",
   "mimetype": "text/x-python",
   "name": "python",
   "nbconvert_exporter": "python",
   "pygments_lexer": "ipython3",
   "version": "3.6.10"
  }
 },
 "nbformat": 4,
 "nbformat_minor": 4
}
