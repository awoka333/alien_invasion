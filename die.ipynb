{
 "cells": [
  {
   "cell_type": "code",
   "execution_count": 1,
   "metadata": {},
   "outputs": [],
   "source": [
    "from random import randint\n",
    "\n",
    "class Die:\n",
    "    \"\"\"1個のサイコロを表すクラス\"\"\"\n",
    "    \n",
    "    def __init__(self, num_sides=6):\n",
    "        \"\"\"6面のサイコロをデフォルトにする\"\"\"\n",
    "        self.num_sides = num_sides\n",
    "        \n",
    "    def roll(self):\n",
    "        \"\"\"1から面の数の間、ランダムな数値を返す\"\"\"\n",
    "        return randint(1, self.num_sides)"
   ]
  },
  {
   "cell_type": "code",
   "execution_count": 3,
   "metadata": {},
   "outputs": [
    {
     "name": "stdout",
     "output_type": "stream",
     "text": [
      "[5, 4, 1, 5, 3, 3, 1, 1, 2, 4, 2, 4, 3, 6, 4, 1, 6, 1, 3, 6, 4, 5, 4, 1, 5, 1, 1, 1, 4, 6, 5, 1, 6, 6, 1, 1, 1, 1, 3, 1, 4, 4, 5, 4, 3, 4, 4, 5, 1, 2, 6, 3, 4, 5, 6, 3, 1, 6, 6, 4, 3, 5, 2, 1, 6, 3, 6, 1, 4, 2, 3, 6, 2, 3, 1, 2, 3, 5, 4, 4, 6, 6, 2, 6, 4, 2, 4, 4, 5, 1, 5, 5, 5, 6, 2, 1, 5, 1, 6, 1]\n"
     ]
    }
   ],
   "source": [
    "# D6(6面のサイコロ)を作成する\n",
    "die = Die()\n",
    "\n",
    "# サイコロを転がし、結果をリストに格納する\n",
    "results = []\n",
    "for roll_num in range(100):\n",
    "    result = die.roll()\n",
    "    results.append(result)\n",
    "    \n",
    "print(results)"
   ]
  },
  {
   "cell_type": "code",
   "execution_count": 4,
   "metadata": {},
   "outputs": [
    {
     "name": "stdout",
     "output_type": "stream",
     "text": [
      "[178, 190, 145, 160, 171, 156]\n"
     ]
    }
   ],
   "source": [
    "# D6(6面のサイコロ)を作成する\n",
    "die = Die()\n",
    "\n",
    "# サイコロを転がし、結果をリストに格納する\n",
    "results = []\n",
    "for roll_num in range(1000):\n",
    "    result = die.roll()\n",
    "    results.append(result)\n",
    "\n",
    "# 結果を分析する\n",
    "frequencies = []\n",
    "for value in range(1, die.num_sides+1):\n",
    "    frequency = results.count(value)\n",
    "    frequencies.append(frequency)\n",
    "    \n",
    "print(frequencies)"
   ]
  },
  {
   "cell_type": "code",
   "execution_count": 6,
   "metadata": {},
   "outputs": [
    {
     "data": {
      "text/plain": [
       "'d6.html'"
      ]
     },
     "execution_count": 6,
     "metadata": {},
     "output_type": "execute_result"
    }
   ],
   "source": [
    "from plotly.graph_objs import Bar, Layout\n",
    "from plotly import offline\n",
    "\n",
    "# D6(6面のサイコロ)を作成する\n",
    "die = Die()\n",
    "\n",
    "# サイコロを転がし、結果をリストに格納する\n",
    "results = []\n",
    "for roll_num in range(1000):\n",
    "    result = die.roll()\n",
    "    results.append(result)\n",
    "\n",
    "# 結果を分析する\n",
    "frequencies = []\n",
    "for value in range(1, die.num_sides+1):\n",
    "    frequency = results.count(value)\n",
    "    frequencies.append(frequency)\n",
    "\n",
    "# 結果を可視化する\n",
    "x_values = list(range(1, die.num_sides+1))\n",
    "data = [Bar(x=x_values, y=frequencies)]\n",
    "\n",
    "x_axis_config = {'title': '結果'}\n",
    "y_axis_config = {'title': '発生した回数'}\n",
    "my_layout = Layout(title='6面のサイコロを1000回転がした結果', xaxis=x_axis_config, yaxis=y_axis_config)\n",
    "offline.plot({'data': data, 'layout': my_layout}, filename='d6.html')"
   ]
  },
  {
   "cell_type": "code",
   "execution_count": 7,
   "metadata": {},
   "outputs": [
    {
     "data": {
      "text/plain": [
       "'d6_d6.html'"
      ]
     },
     "execution_count": 7,
     "metadata": {},
     "output_type": "execute_result"
    }
   ],
   "source": [
    "from plotly.graph_objs import Bar, Layout\n",
    "from plotly import offline\n",
    "\n",
    "# 2個のD6(6面のサイコロ)を作成する\n",
    "die_1 = Die()\n",
    "die_2 = Die()\n",
    "\n",
    "# サイコロを転がし、結果をリストに格納する\n",
    "results = []\n",
    "for roll_num in range(1000):\n",
    "    result = die_1.roll() + die_2.roll()\n",
    "    results.append(result)\n",
    "\n",
    "# 結果を分析する\n",
    "frequencies = []\n",
    "max_result = die_1.num_sides + die_2.num_sides\n",
    "for value in range(2, max_result+1):\n",
    "    frequency = results.count(value)\n",
    "    frequencies.append(frequency)\n",
    "\n",
    "# 結果を可視化する\n",
    "x_values = list(range(2, max_result+1))\n",
    "data = [Bar(x=x_values, y=frequencies)]\n",
    "\n",
    "x_axis_config = {'title': '結果', 'dtick': 1}\n",
    "y_axis_config = {'title': '発生した回数'}\n",
    "my_layout = Layout(title='2個の6面サイコロを1000回転がした結果', xaxis=x_axis_config, yaxis=y_axis_config)\n",
    "offline.plot({'data': data, 'layout': my_layout}, filename='d6_d6.html')"
   ]
  },
  {
   "cell_type": "code",
   "execution_count": 8,
   "metadata": {},
   "outputs": [
    {
     "data": {
      "text/plain": [
       "'d6_d10.html'"
      ]
     },
     "execution_count": 8,
     "metadata": {},
     "output_type": "execute_result"
    }
   ],
   "source": [
    "from plotly.graph_objs import Bar, Layout\n",
    "from plotly import offline\n",
    "\n",
    "# D6(6面のサイコロ)とD10(10面のサイコロ)を作成する\n",
    "die_1 = Die()\n",
    "die_2 = Die(10)\n",
    "\n",
    "# サイコロを転がし、結果をリストに格納する\n",
    "results = []\n",
    "for roll_num in range(50_000):\n",
    "    result = die_1.roll() + die_2.roll()\n",
    "    results.append(result)\n",
    "\n",
    "# 結果を分析する\n",
    "frequencies = []\n",
    "max_result = die_1.num_sides + die_2.num_sides\n",
    "for value in range(2, max_result+1):\n",
    "    frequency = results.count(value)\n",
    "    frequencies.append(frequency)\n",
    "\n",
    "# 結果を可視化する\n",
    "x_values = list(range(2, max_result+1))\n",
    "data = [Bar(x=x_values, y=frequencies)]\n",
    "\n",
    "x_axis_config = {'title': '結果', 'dtick': 1}\n",
    "y_axis_config = {'title': '発生した回数'}\n",
    "my_layout = Layout(title='6面と10面のサイコロを50000回転がした結果', xaxis=x_axis_config, yaxis=y_axis_config)\n",
    "offline.plot({'data': data, 'layout': my_layout}, filename='d6_d10.html')"
   ]
  },
  {
   "cell_type": "code",
   "execution_count": 9,
   "metadata": {},
   "outputs": [
    {
     "data": {
      "text/plain": [
       "'d10_d10.html'"
      ]
     },
     "execution_count": 9,
     "metadata": {},
     "output_type": "execute_result"
    }
   ],
   "source": [
    "from plotly.graph_objs import Bar, Layout\n",
    "from plotly import offline\n",
    "\n",
    "# 2個のD8を作成する\n",
    "die_1 = Die(8)\n",
    "die_2 = Die(8)\n",
    "\n",
    "# サイコロを転がし、結果をリストに格納する\n",
    "results = []\n",
    "for roll_num in range(100_000):\n",
    "    result = die_1.roll() + die_2.roll()\n",
    "    results.append(result)\n",
    "\n",
    "# 結果を分析する\n",
    "frequencies = []\n",
    "max_result = die_1.num_sides + die_2.num_sides\n",
    "for value in range(2, max_result+1):\n",
    "    frequency = results.count(value)\n",
    "    frequencies.append(frequency)\n",
    "\n",
    "# 結果を可視化する\n",
    "x_values = list(range(2, max_result+1))\n",
    "data = [Bar(x=x_values, y=frequencies)]\n",
    "\n",
    "x_axis_config = {'title': '結果', 'dtick': 1}\n",
    "y_axis_config = {'title': '発生した回数'}\n",
    "my_layout = Layout(title='2個の8面サイコロを100000回転がした結果', xaxis=x_axis_config, yaxis=y_axis_config)\n",
    "offline.plot({'data': data, 'layout': my_layout}, filename='d8_d8.html')"
   ]
  },
  {
   "cell_type": "code",
   "execution_count": 12,
   "metadata": {},
   "outputs": [
    {
     "data": {
      "text/plain": [
       "'d6_d6_d6.html'"
      ]
     },
     "execution_count": 12,
     "metadata": {},
     "output_type": "execute_result"
    }
   ],
   "source": [
    "from plotly.graph_objs import Bar, Layout\n",
    "from plotly import offline\n",
    "\n",
    "# 3個のD6を作成する\n",
    "die_1 = Die()\n",
    "die_2 = Die()\n",
    "die_3 = Die()\n",
    "\n",
    "# サイコロを転がし、結果をリストに格納する\n",
    "results = []\n",
    "for roll_num in range(100_000):\n",
    "    result = die_1.roll() + die_2.roll() + die_3.roll()\n",
    "    results.append(result)\n",
    "\n",
    "# 結果を分析する\n",
    "frequencies = []\n",
    "max_result = die_1.num_sides + die_2.num_sides + die_3.num_sides\n",
    "for value in range(3, max_result+1):\n",
    "    frequency = results.count(value)\n",
    "    frequencies.append(frequency)\n",
    "\n",
    "# 結果を可視化する\n",
    "x_values = list(range(3, max_result+1))\n",
    "data = [Bar(x=x_values, y=frequencies)]\n",
    "\n",
    "x_axis_config = {'title': '結果', 'dtick': 1}\n",
    "y_axis_config = {'title': '発生した回数'}\n",
    "my_layout = Layout(title='3個の6面サイコロを100000回転がした結果', xaxis=x_axis_config, yaxis=y_axis_config)\n",
    "offline.plot({'data': data, 'layout': my_layout}, filename='d6_d6_d6.html')"
   ]
  },
  {
   "cell_type": "code",
   "execution_count": 13,
   "metadata": {},
   "outputs": [
    {
     "data": {
      "text/plain": [
       "'d16_d16.html'"
      ]
     },
     "execution_count": 13,
     "metadata": {},
     "output_type": "execute_result"
    }
   ],
   "source": [
    "from plotly.graph_objs import Bar, Layout\n",
    "from plotly import offline\n",
    "\n",
    "# 2個のD16を作成する\n",
    "die_1 = Die(16)\n",
    "die_2 = Die(16)\n",
    "\n",
    "# サイコロを転がし、結果をリストに格納する\n",
    "results = []\n",
    "for roll_num in range(100_000):\n",
    "    result = die_1.roll() * die_2.roll()\n",
    "    results.append(result)\n",
    "\n",
    "# 結果を分析する\n",
    "frequencies = []\n",
    "max_result = die_1.num_sides * die_2.num_sides\n",
    "for value in range(2, max_result+1):\n",
    "    frequency = results.count(value)\n",
    "    frequencies.append(frequency)\n",
    "\n",
    "# 結果を可視化する\n",
    "x_values = list(range(2, max_result+1))\n",
    "data = [Bar(x=x_values, y=frequencies)]\n",
    "\n",
    "x_axis_config = {'title': '結果', 'dtick': 1}\n",
    "y_axis_config = {'title': '発生した回数'}\n",
    "my_layout = Layout(title='2個の16面サイコロを100000回転がした結果', xaxis=x_axis_config, yaxis=y_axis_config)\n",
    "offline.plot({'data': data, 'layout': my_layout}, filename='d16_d16.html')"
   ]
  },
  {
   "cell_type": "code",
   "execution_count": 14,
   "metadata": {},
   "outputs": [
    {
     "data": {
      "text/plain": [
       "'list_d6_d6.html'"
      ]
     },
     "execution_count": 14,
     "metadata": {},
     "output_type": "execute_result"
    }
   ],
   "source": [
    "from plotly.graph_objs import Bar, Layout\n",
    "from plotly import offline\n",
    "\n",
    "# 2個のD8を作成する\n",
    "die_1 = Die()\n",
    "die_2 = Die()\n",
    "\n",
    "# サイコロを転がし、結果をリストに格納する\n",
    "# results = []\n",
    "# for roll_num in range(100_000):\n",
    "#     result = die_1.roll() + die_2.roll()\n",
    "#     results.append(result)\n",
    "results = [die_1.roll() + die_2.roll() for roll_num in range(100_000)]\n",
    "\n",
    "# 結果を分析する\n",
    "# frequencies = []\n",
    "max_result = die_1.num_sides + die_2.num_sides\n",
    "# for value in range(2, max_result+1):\n",
    "#     frequency = results.count(value)\n",
    "#     frequencies.append(frequency)\n",
    "frequencies = [results.count(value) for value in range(2, max_result+1)]\n",
    "\n",
    "# 結果を可視化する\n",
    "x_values = list(range(2, max_result+1))\n",
    "data = [Bar(x=x_values, y=frequencies)]\n",
    "\n",
    "x_axis_config = {'title': '結果', 'dtick': 1}\n",
    "y_axis_config = {'title': '発生した回数'}\n",
    "my_layout = Layout(title='2個の6面サイコロを100000回転がした結果', xaxis=x_axis_config, yaxis=y_axis_config)\n",
    "offline.plot({'data': data, 'layout': my_layout}, filename='list_d6_d6.html')"
   ]
  }
 ],
 "metadata": {
  "kernelspec": {
   "display_name": "Python 3",
   "language": "python",
   "name": "python3"
  },
  "language_info": {
   "codemirror_mode": {
    "name": "ipython",
    "version": 3
   },
   "file_extension": ".py",
   "mimetype": "text/x-python",
   "name": "python",
   "nbconvert_exporter": "python",
   "pygments_lexer": "ipython3",
   "version": "3.6.10"
  }
 },
 "nbformat": 4,
 "nbformat_minor": 4
}
